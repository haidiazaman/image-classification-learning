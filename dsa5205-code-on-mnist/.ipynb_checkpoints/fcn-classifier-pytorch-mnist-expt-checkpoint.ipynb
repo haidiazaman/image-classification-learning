{
 "cells": [
  {
   "cell_type": "code",
   "execution_count": 4,
   "metadata": {},
   "outputs": [
    {
     "name": "stderr",
     "output_type": "stream",
     "text": [
      "/Users/I748920/Library/Python/3.9/lib/python/site-packages/urllib3/__init__.py:35: NotOpenSSLWarning: urllib3 v2 only supports OpenSSL 1.1.1+, currently the 'ssl' module is compiled with 'LibreSSL 2.8.3'. See: https://github.com/urllib3/urllib3/issues/3020\n",
      "  warnings.warn(\n"
     ]
    }
   ],
   "source": [
    "# Standard library imports\n",
    "from datetime import datetime, timedelta\n",
    "\n",
    "# Third-party library imports\n",
    "import numpy as np\n",
    "import pandas as pd\n",
    "import matplotlib.pyplot as plt\n",
    "import requests\n",
    "from bs4 import BeautifulSoup\n",
    "import yfinance as yf\n",
    "\n",
    "# Scikit-learn imports\n",
    "from sklearn.model_selection import train_test_split, cross_val_score\n",
    "from sklearn.decomposition import PCA, KernelPCA\n",
    "from sklearn.preprocessing import StandardScaler\n",
    "from sklearn.tree import DecisionTreeClassifier\n",
    "from sklearn.neural_network import MLPClassifier\n",
    "from sklearn.neighbors import KNeighborsClassifier\n",
    "\n",
    "import time\n",
    "\n",
    "from scripts.get_top_stocks import *\n",
    "from scripts.generate_dataset_features import *\n",
    "from scripts.utils import *\n",
    "from scripts.dataloader import *\n",
    "from scripts.train_predict import *\n",
    "from scripts.models import *"
   ]
  },
  {
   "cell_type": "markdown",
   "metadata": {},
   "source": [
    "# mnist dataset"
   ]
  },
  {
   "cell_type": "code",
   "execution_count": 3,
   "metadata": {
    "scrolled": true
   },
   "outputs": [],
   "source": [
    "import torch\n",
    "from torchvision import datasets, transforms\n",
    "from torch.utils.data import DataLoader,random_split\n",
    "\n",
    "# Define transformations for the training and testing sets\n",
    "transform = transforms.Compose([\n",
    "    transforms.ToTensor(),\n",
    "    transforms.Normalize((0.1307,), (0.3081,))  # Normalizing with mean and std of the MNIST dataset\n",
    "])\n",
    "\n",
    "# Load the training and test datasets\n",
    "train_dataset = datasets.MNIST(root='./data', train=True, download=True, transform=transform)\n",
    "test_dataset = datasets.MNIST(root='./data', train=False, download=True, transform=transform)"
   ]
  },
  {
   "cell_type": "code",
   "execution_count": 5,
   "metadata": {},
   "outputs": [
    {
     "data": {
      "text/plain": [
       "(48000, 12000, 10000)"
      ]
     },
     "execution_count": 5,
     "metadata": {},
     "output_type": "execute_result"
    }
   ],
   "source": [
    "train_size = int(0.8 * len(train_dataset))\n",
    "val_size = len(train_dataset) - train_size\n",
    "train_dataset, val_dataset = random_split(train_dataset, [train_size, val_size])\n",
    "\n",
    "train_dataset.__len__(),val_dataset.__len__(),test_dataset.__len__()"
   ]
  },
  {
   "cell_type": "code",
   "execution_count": 6,
   "metadata": {},
   "outputs": [
    {
     "name": "stdout",
     "output_type": "stream",
     "text": [
      "Batch 1\n",
      "Data shape: torch.Size([64, 1, 28, 28])\n",
      "Target shape: torch.Size([64])\n",
      "Number of training batches: 750\n",
      "Number of test batches: 10\n"
     ]
    }
   ],
   "source": [
    "# Create DataLoader objects\n",
    "train_loader = DataLoader(dataset=train_dataset, batch_size=64, shuffle=True)\n",
    "val_loader = DataLoader(dataset=val_dataset, batch_size=64, shuffle=False)\n",
    "test_loader = DataLoader(dataset=test_dataset, batch_size=1000, shuffle=False)\n",
    "\n",
    "# Example: Iterate through the DataLoader\n",
    "for batch_idx, (data, target) in enumerate(train_loader):\n",
    "    print(f\"Batch {batch_idx + 1}\")\n",
    "    print(f\"Data shape: {data.shape}\")\n",
    "    print(f\"Target shape: {target.shape}\")\n",
    "    break  # Just to demonstrate, breaking after the first batch\n",
    "\n",
    "# Check the number of batches\n",
    "print(f\"Number of training batches: {len(train_loader)}\")\n",
    "print(f\"Number of test batches: {len(test_loader)}\")"
   ]
  },
  {
   "cell_type": "markdown",
   "metadata": {},
   "source": [
    "# pytorch model"
   ]
  },
  {
   "cell_type": "code",
   "execution_count": 8,
   "metadata": {
    "scrolled": true
   },
   "outputs": [
    {
     "name": "stdout",
     "output_type": "stream",
     "text": [
      "epoch 0\n",
      "model epoch 0 saved as fcn.pt\n",
      "Epoch 1/100, train loss: 0.3507, val loss: 0.2170, time_taken: 4.7\n",
      "train acc: 89.79, val_acc: 93.51\n",
      "epoch 1\n",
      "model epoch 1 saved as fcn.pt\n",
      "Epoch 2/100, train loss: 0.2393, val loss: 0.1710, time_taken: 4.7\n",
      "train acc: 92.97, val_acc: 94.73\n",
      "epoch 2\n",
      "model epoch 2 saved as fcn.pt\n",
      "Epoch 3/100, train loss: 0.1970, val loss: 0.1503, time_taken: 4.5\n",
      "train acc: 94.12, val_acc: 95.58\n",
      "epoch 3\n",
      "model epoch 3 saved as fcn.pt\n",
      "Epoch 4/100, train loss: 0.1734, val loss: 0.1311, time_taken: 4.5\n",
      "train acc: 94.58, val_acc: 96.16\n",
      "epoch 4\n",
      "model epoch 4 saved as fcn.pt\n",
      "Epoch 5/100, train loss: 0.1560, val loss: 0.1198, time_taken: 4.2\n",
      "train acc: 95.15, val_acc: 96.54\n",
      "epoch 5\n",
      "model epoch 5 saved as fcn.pt\n",
      "Epoch 6/100, train loss: 0.1415, val loss: 0.1126, time_taken: 4.5\n",
      "train acc: 95.59, val_acc: 96.73\n",
      "epoch 6\n",
      "model epoch 6 saved as fcn.pt\n",
      "Epoch 7/100, train loss: 0.1290, val loss: 0.1099, time_taken: 4.6\n",
      "train acc: 95.93, val_acc: 96.67\n",
      "epoch 7\n",
      "model epoch 7 saved as fcn.pt\n",
      "Epoch 8/100, train loss: 0.1180, val loss: 0.1044, time_taken: 4.6\n",
      "train acc: 96.18, val_acc: 97.07\n",
      "epoch 8\n",
      "model epoch 8 saved as fcn.pt\n",
      "Epoch 9/100, train loss: 0.1147, val loss: 0.0978, time_taken: 4.6\n",
      "train acc: 96.29, val_acc: 97.0\n",
      "epoch 9\n",
      "model epoch 9 saved as fcn.pt\n",
      "Epoch 10/100, train loss: 0.1039, val loss: 0.0904, time_taken: 4.4\n",
      "train acc: 96.62, val_acc: 97.41\n",
      "epoch 10\n",
      "Epoch 11/100, train loss: 0.0988, val loss: 0.0906, time_taken: 4.4\n",
      "train acc: 96.93, val_acc: 97.3\n",
      "epoch 11\n",
      "Epoch 12/100, train loss: 0.0977, val loss: 0.0937, time_taken: 4.4\n",
      "train acc: 96.92, val_acc: 97.32\n",
      "epoch 12\n",
      "Epoch 13/100, train loss: 0.0848, val loss: 0.0913, time_taken: 4.2\n",
      "train acc: 97.28, val_acc: 97.23\n",
      "epoch 13\n",
      "model epoch 13 saved as fcn.pt\n",
      "Epoch 14/100, train loss: 0.0844, val loss: 0.0865, time_taken: 4.3\n",
      "train acc: 97.25, val_acc: 97.48\n",
      "epoch 14\n",
      "model epoch 14 saved as fcn.pt\n",
      "Epoch 15/100, train loss: 0.0802, val loss: 0.0839, time_taken: 4.4\n",
      "train acc: 97.41, val_acc: 97.65\n",
      "epoch 15\n",
      "Epoch 16/100, train loss: 0.0745, val loss: 0.0866, time_taken: 4.5\n",
      "train acc: 97.57, val_acc: 97.49\n",
      "epoch 16\n",
      "Epoch 17/100, train loss: 0.0709, val loss: 0.0855, time_taken: 4.8\n",
      "train acc: 97.69, val_acc: 97.61\n",
      "epoch 17\n",
      "Epoch 18/100, train loss: 0.0671, val loss: 0.0840, time_taken: 4.5\n",
      "train acc: 97.76, val_acc: 97.74\n",
      "epoch 18\n",
      "Epoch 19/100, train loss: 0.0698, val loss: 0.0857, time_taken: 4.5\n",
      "train acc: 97.72, val_acc: 97.79\n",
      "epoch 19\n",
      "model epoch 19 saved as fcn.pt\n",
      "Epoch 20/100, train loss: 0.0560, val loss: 0.0782, time_taken: 4.5\n",
      "train acc: 98.13, val_acc: 97.85\n",
      "epoch 20\n",
      "model epoch 20 saved as fcn.pt\n",
      "Epoch 21/100, train loss: 0.0484, val loss: 0.0755, time_taken: 4.6\n",
      "train acc: 98.36, val_acc: 97.92\n",
      "epoch 21\n",
      "Epoch 22/100, train loss: 0.0460, val loss: 0.0794, time_taken: 4.8\n",
      "train acc: 98.43, val_acc: 98.02\n",
      "epoch 22\n",
      "Epoch 23/100, train loss: 0.0425, val loss: 0.0767, time_taken: 4.3\n",
      "train acc: 98.57, val_acc: 97.91\n",
      "epoch 23\n",
      "Epoch 24/100, train loss: 0.0402, val loss: 0.0809, time_taken: 4.4\n",
      "train acc: 98.7, val_acc: 97.96\n",
      "epoch 24\n",
      "model epoch 24 saved as fcn.pt\n",
      "Epoch 25/100, train loss: 0.0409, val loss: 0.0752, time_taken: 4.9\n",
      "train acc: 98.58, val_acc: 98.06\n",
      "epoch 25\n",
      "Epoch 26/100, train loss: 0.0373, val loss: 0.0809, time_taken: 4.6\n",
      "train acc: 98.77, val_acc: 97.95\n",
      "epoch 26\n",
      "Epoch 27/100, train loss: 0.0377, val loss: 0.0791, time_taken: 4.4\n",
      "train acc: 98.74, val_acc: 98.01\n",
      "epoch 27\n",
      "Epoch 28/100, train loss: 0.0363, val loss: 0.0763, time_taken: 5.2\n",
      "train acc: 98.76, val_acc: 98.0\n",
      "epoch 28\n",
      "Epoch 29/100, train loss: 0.0392, val loss: 0.0807, time_taken: 4.8\n",
      "train acc: 98.65, val_acc: 97.85\n",
      "epoch 29\n",
      "Epoch 30/100, train loss: 0.0337, val loss: 0.0768, time_taken: 5.0\n",
      "train acc: 98.89, val_acc: 98.06\n",
      "epoch 30\n",
      "Epoch 31/100, train loss: 0.0304, val loss: 0.0760, time_taken: 5.0\n",
      "train acc: 98.99, val_acc: 98.12\n",
      "epoch 31\n",
      "Epoch 32/100, train loss: 0.0274, val loss: 0.0771, time_taken: 4.8\n",
      "train acc: 99.07, val_acc: 98.11\n",
      "epoch 32\n",
      "model epoch 32 saved as fcn.pt\n",
      "Epoch 33/100, train loss: 0.0274, val loss: 0.0746, time_taken: 4.7\n",
      "train acc: 99.08, val_acc: 98.11\n",
      "epoch 33\n",
      "Epoch 34/100, train loss: 0.0250, val loss: 0.0757, time_taken: 4.5\n",
      "train acc: 99.19, val_acc: 98.1\n",
      "epoch 34\n",
      "model epoch 34 saved as fcn.pt\n",
      "Epoch 35/100, train loss: 0.0262, val loss: 0.0744, time_taken: 4.7\n",
      "train acc: 99.16, val_acc: 98.15\n",
      "epoch 35\n",
      "Epoch 36/100, train loss: 0.0253, val loss: 0.0795, time_taken: 4.7\n",
      "train acc: 99.16, val_acc: 98.1\n",
      "epoch 36\n",
      "Epoch 37/100, train loss: 0.0252, val loss: 0.0789, time_taken: 4.9\n",
      "train acc: 99.14, val_acc: 98.05\n",
      "epoch 37\n",
      "Epoch 38/100, train loss: 0.0251, val loss: 0.0769, time_taken: 5.2\n",
      "train acc: 99.15, val_acc: 98.22\n",
      "epoch 38\n",
      "Epoch 39/100, train loss: 0.0242, val loss: 0.0803, time_taken: 4.8\n",
      "train acc: 99.18, val_acc: 98.11\n",
      "epoch 39\n",
      "Epoch 40/100, train loss: 0.0229, val loss: 0.0804, time_taken: 4.8\n",
      "train acc: 99.2, val_acc: 98.11\n",
      "epoch 40\n",
      "Epoch 41/100, train loss: 0.0213, val loss: 0.0777, time_taken: 4.6\n",
      "train acc: 99.25, val_acc: 98.13\n",
      "epoch 41\n",
      "Epoch 42/100, train loss: 0.0198, val loss: 0.0789, time_taken: 4.5\n",
      "train acc: 99.31, val_acc: 98.15\n",
      "epoch 42\n",
      "Epoch 43/100, train loss: 0.0207, val loss: 0.0790, time_taken: 4.6\n",
      "train acc: 99.3, val_acc: 98.12\n",
      "epoch 43\n",
      "Epoch 44/100, train loss: 0.0183, val loss: 0.0794, time_taken: 4.8\n",
      "train acc: 99.36, val_acc: 98.16\n",
      "epoch 44\n",
      "Early stopping!\n"
     ]
    },
    {
     "data": {
      "image/png": "[encoded data removed]",
      "text/plain": [
       "<Figure size 1000x600 with 2 Axes>"
      ]
     },
     "metadata": {},
     "output_type": "display_data"
    }
   ],
   "source": [
    "# define model inputs\n",
    "\n",
    "device = torch.device('cpu')\n",
    "lr= 1e-3\n",
    "epochs = 100\n",
    "scheduler_factor=0.5\n",
    "scheduler_patience=3\n",
    "early_stopping_limit = 10\n",
    "class_weights = []\n",
    "criterion = 'cross'\n",
    "\n",
    "model, train_losses, val_losses, train_accs, val_accs = train(\n",
    "    device=device,\n",
    "    lr=lr,\n",
    "    epochs=epochs,\n",
    "    scheduler_factor=scheduler_factor,\n",
    "    scheduler_patience=scheduler_patience,\n",
    "    early_stopping_limit=early_stopping_limit,\n",
    "    class_weights=class_weights,\n",
    "    criterion=criterion,\n",
    "    train_loader=train_loader,\n",
    "    val_loader=val_loader\n",
    ")\n",
    "plot_loss_acc(train_losses, val_losses, train_accs, val_accs)"
   ]
  },
  {
   "cell_type": "code",
   "execution_count": 21,
   "metadata": {},
   "outputs": [
    {
     "data": {
      "text/plain": [
       "FCN(\n",
       "  (f): Flatten(start_dim=1, end_dim=-1)\n",
       "  (fcn): Sequential(\n",
       "    (0): Linear(in_features=784, out_features=1024, bias=True)\n",
       "    (1): BatchNorm1d(1024, eps=1e-05, momentum=0.1, affine=True, track_running_stats=True)\n",
       "    (2): Tanh()\n",
       "    (3): Dropout(p=0.5, inplace=False)\n",
       "    (4): Linear(in_features=1024, out_features=256, bias=True)\n",
       "    (5): BatchNorm1d(256, eps=1e-05, momentum=0.1, affine=True, track_running_stats=True)\n",
       "    (6): Tanh()\n",
       "    (7): Dropout(p=0.5, inplace=False)\n",
       "    (8): Linear(in_features=256, out_features=10, bias=True)\n",
       "  )\n",
       ")"
      ]
     },
     "execution_count": 21,
     "metadata": {},
     "output_type": "execute_result"
    }
   ],
   "source": [
    "model"
   ]
  },
  {
   "cell_type": "code",
   "execution_count": 38,
   "metadata": {},
   "outputs": [
    {
     "name": "stdout",
     "output_type": "stream",
     "text": [
      "0.983\n"
     ]
    }
   ],
   "source": [
    "model.eval()\n",
    "\n",
    "# Initialize variables to store the number of correct predictions and the total number of predictions\n",
    "correct = 0\n",
    "total = 0\n",
    "\n",
    "# Disable gradient calculations for evaluation\n",
    "with torch.no_grad():\n",
    "    for data, target in test_loader:\n",
    "        data, target = data.to(device), target.to(device)\n",
    "        outputs = model(data)\n",
    "        _, predicted = torch.max(outputs.data, 1)\n",
    "        total += target.size(0)\n",
    "        correct += (predicted == target).sum().item()\n",
    "\n",
    "print(correct/total)"
   ]
  }
 ],
 "metadata": {
  "kernelspec": {
   "display_name": "dsa5205-env",
   "language": "python",
   "name": "dsa5205-env"
  },
  "language_info": {
   "codemirror_mode": {
    "name": "ipython",
    "version": 3
   },
   "file_extension": ".py",
   "mimetype": "text/x-python",
   "name": "python",
   "nbconvert_exporter": "python",
   "pygments_lexer": "ipython3",
   "version": "3.9.6"
  }
 },
 "nbformat": 4,
 "nbformat_minor": 4
}
